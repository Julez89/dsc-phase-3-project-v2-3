{
 "cells": [
  {
   "cell_type": "markdown",
   "metadata": {},
   "source": [
    "## Project 3 Submission\n",
    "- Student name: Julia Müller\n",
    "- Student pace: self paced\n",
    "- Scheduled project review date/time: 17.05.2023\n",
    "- Instructor name: Mark Barbour"
   ]
  },
  {
   "cell_type": "markdown",
   "metadata": {},
   "source": [
    "### Business Context\n",
    "This notebook analyses a data set from a telephone company with information about the customer and information about the customer churning or not. Our goal is to build a model to predict customer churn for our stakeholder - the telephone company. The model will identify the most important features from the model and can give recommendation to our stakeholder when customers tend to leave. This will enable to company to take certain prevention activities such as offering discounts or improving the package. "
   ]
  },
  {
   "cell_type": "markdown",
   "metadata": {},
   "source": [
    "### Loading packages and data"
   ]
  },
  {
   "cell_type": "code",
   "execution_count": 22,
   "metadata": {},
   "outputs": [],
   "source": [
    "#importing relevant packages\n",
    "import pandas as pd\n",
    "import numpy as np\n",
    "np.random.seed(0)\n",
    "import seaborn as sns\n",
    "import matplotlib.pyplot as plt\n",
    "%matplotlib inline\n",
    "from sklearn.model_selection import train_test_split\n",
    "from sklearn.metrics import accuracy_score, f1_score,precision_score, recall_score, roc_auc_score\n",
    "from sklearn.metrics import precision_recall_fscore_support\n",
    "from sklearn.metrics import confusion_matrix, classification_report, ConfusionMatrixDisplay\n",
    "from sklearn.tree import DecisionTreeClassifier\n",
    "from sklearn.ensemble import BaggingClassifier, RandomForestClassifier, RandomForestRegressor\n",
    "from imblearn.over_sampling import SMOTE\n",
    "from sklearn.preprocessing import StandardScaler\n",
    "from sklearn.linear_model import LogisticRegression\n",
    "from sklearn.model_selection import cross_val_score\n",
    "from sklearn.model_selection import StratifiedKFold\n",
    "from imblearn.pipeline import Pipeline\n",
    "from sklearn.model_selection import RepeatedStratifiedKFold\n",
    "from xgboost import XGBClassifier\n",
    "from sklearn.model_selection import GridSearchCV\n",
    "from imblearn.over_sampling import RandomOverSampler\n",
    "from imblearn.under_sampling import RandomUnderSampler\n",
    "from xgboost import plot_importance"
   ]
  },
  {
   "cell_type": "code",
   "execution_count": 3,
   "metadata": {},
   "outputs": [
    {
     "name": "stdout",
     "output_type": "stream",
     "text": [
      "C:\\Users\\mullerju\\Documents\\Flatiron\\phase_3\\dsc-phase-3-project-v2-3\\data\n"
     ]
    }
   ],
   "source": [
    "cd data"
   ]
  },
  {
   "cell_type": "code",
   "execution_count": 4,
   "metadata": {},
   "outputs": [],
   "source": [
    "#reading data\n",
    "df = pd.read_csv(\"churn.csv\")"
   ]
  },
  {
   "cell_type": "code",
   "execution_count": 37,
   "metadata": {},
   "outputs": [
    {
     "data": {
      "text/html": [
       "<div>\n",
       "<style scoped>\n",
       "    .dataframe tbody tr th:only-of-type {\n",
       "        vertical-align: middle;\n",
       "    }\n",
       "\n",
       "    .dataframe tbody tr th {\n",
       "        vertical-align: top;\n",
       "    }\n",
       "\n",
       "    .dataframe thead th {\n",
       "        text-align: right;\n",
       "    }\n",
       "</style>\n",
       "<table border=\"1\" class=\"dataframe\">\n",
       "  <thead>\n",
       "    <tr style=\"text-align: right;\">\n",
       "      <th></th>\n",
       "      <th>state</th>\n",
       "      <th>account_length</th>\n",
       "      <th>international_plan</th>\n",
       "      <th>voice_mail_plan</th>\n",
       "      <th>number_vmail_messages</th>\n",
       "      <th>total_day_minutes</th>\n",
       "      <th>total_day_calls</th>\n",
       "      <th>total_eve_minutes</th>\n",
       "      <th>total_eve_calls</th>\n",
       "      <th>total_night_minutes</th>\n",
       "      <th>total_night_calls</th>\n",
       "      <th>total_intl_minutes</th>\n",
       "      <th>total_intl_calls</th>\n",
       "      <th>customer_service_calls</th>\n",
       "      <th>churn</th>\n",
       "    </tr>\n",
       "  </thead>\n",
       "  <tbody>\n",
       "    <tr>\n",
       "      <th>0</th>\n",
       "      <td>KS</td>\n",
       "      <td>128</td>\n",
       "      <td>0</td>\n",
       "      <td>1</td>\n",
       "      <td>25</td>\n",
       "      <td>265.1</td>\n",
       "      <td>110</td>\n",
       "      <td>197.4</td>\n",
       "      <td>99</td>\n",
       "      <td>244.7</td>\n",
       "      <td>91</td>\n",
       "      <td>10.0</td>\n",
       "      <td>3</td>\n",
       "      <td>1</td>\n",
       "      <td>0</td>\n",
       "    </tr>\n",
       "    <tr>\n",
       "      <th>1</th>\n",
       "      <td>OH</td>\n",
       "      <td>107</td>\n",
       "      <td>0</td>\n",
       "      <td>1</td>\n",
       "      <td>26</td>\n",
       "      <td>161.6</td>\n",
       "      <td>123</td>\n",
       "      <td>195.5</td>\n",
       "      <td>103</td>\n",
       "      <td>254.4</td>\n",
       "      <td>103</td>\n",
       "      <td>13.7</td>\n",
       "      <td>3</td>\n",
       "      <td>1</td>\n",
       "      <td>0</td>\n",
       "    </tr>\n",
       "    <tr>\n",
       "      <th>2</th>\n",
       "      <td>NJ</td>\n",
       "      <td>137</td>\n",
       "      <td>0</td>\n",
       "      <td>0</td>\n",
       "      <td>0</td>\n",
       "      <td>243.4</td>\n",
       "      <td>114</td>\n",
       "      <td>121.2</td>\n",
       "      <td>110</td>\n",
       "      <td>162.6</td>\n",
       "      <td>104</td>\n",
       "      <td>12.2</td>\n",
       "      <td>5</td>\n",
       "      <td>0</td>\n",
       "      <td>0</td>\n",
       "    </tr>\n",
       "    <tr>\n",
       "      <th>3</th>\n",
       "      <td>OH</td>\n",
       "      <td>84</td>\n",
       "      <td>1</td>\n",
       "      <td>0</td>\n",
       "      <td>0</td>\n",
       "      <td>299.4</td>\n",
       "      <td>71</td>\n",
       "      <td>61.9</td>\n",
       "      <td>88</td>\n",
       "      <td>196.9</td>\n",
       "      <td>89</td>\n",
       "      <td>6.6</td>\n",
       "      <td>7</td>\n",
       "      <td>2</td>\n",
       "      <td>0</td>\n",
       "    </tr>\n",
       "    <tr>\n",
       "      <th>4</th>\n",
       "      <td>OK</td>\n",
       "      <td>75</td>\n",
       "      <td>1</td>\n",
       "      <td>0</td>\n",
       "      <td>0</td>\n",
       "      <td>166.7</td>\n",
       "      <td>113</td>\n",
       "      <td>148.3</td>\n",
       "      <td>122</td>\n",
       "      <td>186.9</td>\n",
       "      <td>121</td>\n",
       "      <td>10.1</td>\n",
       "      <td>3</td>\n",
       "      <td>3</td>\n",
       "      <td>0</td>\n",
       "    </tr>\n",
       "  </tbody>\n",
       "</table>\n",
       "</div>"
      ],
      "text/plain": [
       "  state  account_length  international_plan  voice_mail_plan  \\\n",
       "0    KS             128                   0                1   \n",
       "1    OH             107                   0                1   \n",
       "2    NJ             137                   0                0   \n",
       "3    OH              84                   1                0   \n",
       "4    OK              75                   1                0   \n",
       "\n",
       "   number_vmail_messages  total_day_minutes  total_day_calls  \\\n",
       "0                     25              265.1              110   \n",
       "1                     26              161.6              123   \n",
       "2                      0              243.4              114   \n",
       "3                      0              299.4               71   \n",
       "4                      0              166.7              113   \n",
       "\n",
       "   total_eve_minutes  total_eve_calls  total_night_minutes  total_night_calls  \\\n",
       "0              197.4               99                244.7                 91   \n",
       "1              195.5              103                254.4                103   \n",
       "2              121.2              110                162.6                104   \n",
       "3               61.9               88                196.9                 89   \n",
       "4              148.3              122                186.9                121   \n",
       "\n",
       "   total_intl_minutes  total_intl_calls  customer_service_calls  churn  \n",
       "0                10.0                 3                       1      0  \n",
       "1                13.7                 3                       1      0  \n",
       "2                12.2                 5                       0      0  \n",
       "3                 6.6                 7                       2      0  \n",
       "4                10.1                 3                       3      0  "
      ]
     },
     "execution_count": 37,
     "metadata": {},
     "output_type": "execute_result"
    }
   ],
   "source": [
    "#inspecting data\n",
    "df.head()"
   ]
  },
  {
   "cell_type": "code",
   "execution_count": 5,
   "metadata": {},
   "outputs": [
    {
     "name": "stdout",
     "output_type": "stream",
     "text": [
      "<class 'pandas.core.frame.DataFrame'>\n",
      "RangeIndex: 3333 entries, 0 to 3332\n",
      "Data columns (total 21 columns):\n",
      " #   Column                  Non-Null Count  Dtype  \n",
      "---  ------                  --------------  -----  \n",
      " 0   state                   3333 non-null   object \n",
      " 1   account length          3333 non-null   int64  \n",
      " 2   area code               3333 non-null   int64  \n",
      " 3   phone number            3333 non-null   object \n",
      " 4   international plan      3333 non-null   object \n",
      " 5   voice mail plan         3333 non-null   object \n",
      " 6   number vmail messages   3333 non-null   int64  \n",
      " 7   total day minutes       3333 non-null   float64\n",
      " 8   total day calls         3333 non-null   int64  \n",
      " 9   total day charge        3333 non-null   float64\n",
      " 10  total eve minutes       3333 non-null   float64\n",
      " 11  total eve calls         3333 non-null   int64  \n",
      " 12  total eve charge        3333 non-null   float64\n",
      " 13  total night minutes     3333 non-null   float64\n",
      " 14  total night calls       3333 non-null   int64  \n",
      " 15  total night charge      3333 non-null   float64\n",
      " 16  total intl minutes      3333 non-null   float64\n",
      " 17  total intl calls        3333 non-null   int64  \n",
      " 18  total intl charge       3333 non-null   float64\n",
      " 19  customer service calls  3333 non-null   int64  \n",
      " 20  churn                   3333 non-null   bool   \n",
      "dtypes: bool(1), float64(8), int64(8), object(4)\n",
      "memory usage: 524.2+ KB\n"
     ]
    }
   ],
   "source": [
    "#checking for missing values and data types\n",
    "df.info()"
   ]
  },
  {
   "cell_type": "code",
   "execution_count": 127,
   "metadata": {},
   "outputs": [
    {
     "data": {
      "text/html": [
       "<div>\n",
       "<style scoped>\n",
       "    .dataframe tbody tr th:only-of-type {\n",
       "        vertical-align: middle;\n",
       "    }\n",
       "\n",
       "    .dataframe tbody tr th {\n",
       "        vertical-align: top;\n",
       "    }\n",
       "\n",
       "    .dataframe thead th {\n",
       "        text-align: right;\n",
       "    }\n",
       "</style>\n",
       "<table border=\"1\" class=\"dataframe\">\n",
       "  <thead>\n",
       "    <tr style=\"text-align: right;\">\n",
       "      <th></th>\n",
       "      <th>account length</th>\n",
       "      <th>area code</th>\n",
       "      <th>number vmail messages</th>\n",
       "      <th>total day minutes</th>\n",
       "      <th>total day calls</th>\n",
       "      <th>total day charge</th>\n",
       "      <th>total eve minutes</th>\n",
       "      <th>total eve calls</th>\n",
       "      <th>total eve charge</th>\n",
       "      <th>total night minutes</th>\n",
       "      <th>total night calls</th>\n",
       "      <th>total night charge</th>\n",
       "      <th>total intl minutes</th>\n",
       "      <th>total intl calls</th>\n",
       "      <th>total intl charge</th>\n",
       "      <th>customer service calls</th>\n",
       "    </tr>\n",
       "  </thead>\n",
       "  <tbody>\n",
       "    <tr>\n",
       "      <th>count</th>\n",
       "      <td>3333.000000</td>\n",
       "      <td>3333.000000</td>\n",
       "      <td>3333.000000</td>\n",
       "      <td>3333.000000</td>\n",
       "      <td>3333.000000</td>\n",
       "      <td>3333.000000</td>\n",
       "      <td>3333.000000</td>\n",
       "      <td>3333.000000</td>\n",
       "      <td>3333.000000</td>\n",
       "      <td>3333.000000</td>\n",
       "      <td>3333.000000</td>\n",
       "      <td>3333.000000</td>\n",
       "      <td>3333.000000</td>\n",
       "      <td>3333.000000</td>\n",
       "      <td>3333.000000</td>\n",
       "      <td>3333.000000</td>\n",
       "    </tr>\n",
       "    <tr>\n",
       "      <th>mean</th>\n",
       "      <td>101.064806</td>\n",
       "      <td>437.182418</td>\n",
       "      <td>8.099010</td>\n",
       "      <td>179.775098</td>\n",
       "      <td>100.435644</td>\n",
       "      <td>30.562307</td>\n",
       "      <td>200.980348</td>\n",
       "      <td>100.114311</td>\n",
       "      <td>17.083540</td>\n",
       "      <td>200.872037</td>\n",
       "      <td>100.107711</td>\n",
       "      <td>9.039325</td>\n",
       "      <td>10.237294</td>\n",
       "      <td>4.479448</td>\n",
       "      <td>2.764581</td>\n",
       "      <td>1.562856</td>\n",
       "    </tr>\n",
       "    <tr>\n",
       "      <th>std</th>\n",
       "      <td>39.822106</td>\n",
       "      <td>42.371290</td>\n",
       "      <td>13.688365</td>\n",
       "      <td>54.467389</td>\n",
       "      <td>20.069084</td>\n",
       "      <td>9.259435</td>\n",
       "      <td>50.713844</td>\n",
       "      <td>19.922625</td>\n",
       "      <td>4.310668</td>\n",
       "      <td>50.573847</td>\n",
       "      <td>19.568609</td>\n",
       "      <td>2.275873</td>\n",
       "      <td>2.791840</td>\n",
       "      <td>2.461214</td>\n",
       "      <td>0.753773</td>\n",
       "      <td>1.315491</td>\n",
       "    </tr>\n",
       "    <tr>\n",
       "      <th>min</th>\n",
       "      <td>1.000000</td>\n",
       "      <td>408.000000</td>\n",
       "      <td>0.000000</td>\n",
       "      <td>0.000000</td>\n",
       "      <td>0.000000</td>\n",
       "      <td>0.000000</td>\n",
       "      <td>0.000000</td>\n",
       "      <td>0.000000</td>\n",
       "      <td>0.000000</td>\n",
       "      <td>23.200000</td>\n",
       "      <td>33.000000</td>\n",
       "      <td>1.040000</td>\n",
       "      <td>0.000000</td>\n",
       "      <td>0.000000</td>\n",
       "      <td>0.000000</td>\n",
       "      <td>0.000000</td>\n",
       "    </tr>\n",
       "    <tr>\n",
       "      <th>25%</th>\n",
       "      <td>74.000000</td>\n",
       "      <td>408.000000</td>\n",
       "      <td>0.000000</td>\n",
       "      <td>143.700000</td>\n",
       "      <td>87.000000</td>\n",
       "      <td>24.430000</td>\n",
       "      <td>166.600000</td>\n",
       "      <td>87.000000</td>\n",
       "      <td>14.160000</td>\n",
       "      <td>167.000000</td>\n",
       "      <td>87.000000</td>\n",
       "      <td>7.520000</td>\n",
       "      <td>8.500000</td>\n",
       "      <td>3.000000</td>\n",
       "      <td>2.300000</td>\n",
       "      <td>1.000000</td>\n",
       "    </tr>\n",
       "    <tr>\n",
       "      <th>50%</th>\n",
       "      <td>101.000000</td>\n",
       "      <td>415.000000</td>\n",
       "      <td>0.000000</td>\n",
       "      <td>179.400000</td>\n",
       "      <td>101.000000</td>\n",
       "      <td>30.500000</td>\n",
       "      <td>201.400000</td>\n",
       "      <td>100.000000</td>\n",
       "      <td>17.120000</td>\n",
       "      <td>201.200000</td>\n",
       "      <td>100.000000</td>\n",
       "      <td>9.050000</td>\n",
       "      <td>10.300000</td>\n",
       "      <td>4.000000</td>\n",
       "      <td>2.780000</td>\n",
       "      <td>1.000000</td>\n",
       "    </tr>\n",
       "    <tr>\n",
       "      <th>75%</th>\n",
       "      <td>127.000000</td>\n",
       "      <td>510.000000</td>\n",
       "      <td>20.000000</td>\n",
       "      <td>216.400000</td>\n",
       "      <td>114.000000</td>\n",
       "      <td>36.790000</td>\n",
       "      <td>235.300000</td>\n",
       "      <td>114.000000</td>\n",
       "      <td>20.000000</td>\n",
       "      <td>235.300000</td>\n",
       "      <td>113.000000</td>\n",
       "      <td>10.590000</td>\n",
       "      <td>12.100000</td>\n",
       "      <td>6.000000</td>\n",
       "      <td>3.270000</td>\n",
       "      <td>2.000000</td>\n",
       "    </tr>\n",
       "    <tr>\n",
       "      <th>max</th>\n",
       "      <td>243.000000</td>\n",
       "      <td>510.000000</td>\n",
       "      <td>51.000000</td>\n",
       "      <td>350.800000</td>\n",
       "      <td>165.000000</td>\n",
       "      <td>59.640000</td>\n",
       "      <td>363.700000</td>\n",
       "      <td>170.000000</td>\n",
       "      <td>30.910000</td>\n",
       "      <td>395.000000</td>\n",
       "      <td>175.000000</td>\n",
       "      <td>17.770000</td>\n",
       "      <td>20.000000</td>\n",
       "      <td>20.000000</td>\n",
       "      <td>5.400000</td>\n",
       "      <td>9.000000</td>\n",
       "    </tr>\n",
       "  </tbody>\n",
       "</table>\n",
       "</div>"
      ],
      "text/plain": [
       "       account length    area code  number vmail messages  total day minutes  \\\n",
       "count     3333.000000  3333.000000            3333.000000        3333.000000   \n",
       "mean       101.064806   437.182418               8.099010         179.775098   \n",
       "std         39.822106    42.371290              13.688365          54.467389   \n",
       "min          1.000000   408.000000               0.000000           0.000000   \n",
       "25%         74.000000   408.000000               0.000000         143.700000   \n",
       "50%        101.000000   415.000000               0.000000         179.400000   \n",
       "75%        127.000000   510.000000              20.000000         216.400000   \n",
       "max        243.000000   510.000000              51.000000         350.800000   \n",
       "\n",
       "       total day calls  total day charge  total eve minutes  total eve calls  \\\n",
       "count      3333.000000       3333.000000        3333.000000      3333.000000   \n",
       "mean        100.435644         30.562307         200.980348       100.114311   \n",
       "std          20.069084          9.259435          50.713844        19.922625   \n",
       "min           0.000000          0.000000           0.000000         0.000000   \n",
       "25%          87.000000         24.430000         166.600000        87.000000   \n",
       "50%         101.000000         30.500000         201.400000       100.000000   \n",
       "75%         114.000000         36.790000         235.300000       114.000000   \n",
       "max         165.000000         59.640000         363.700000       170.000000   \n",
       "\n",
       "       total eve charge  total night minutes  total night calls  \\\n",
       "count       3333.000000          3333.000000        3333.000000   \n",
       "mean          17.083540           200.872037         100.107711   \n",
       "std            4.310668            50.573847          19.568609   \n",
       "min            0.000000            23.200000          33.000000   \n",
       "25%           14.160000           167.000000          87.000000   \n",
       "50%           17.120000           201.200000         100.000000   \n",
       "75%           20.000000           235.300000         113.000000   \n",
       "max           30.910000           395.000000         175.000000   \n",
       "\n",
       "       total night charge  total intl minutes  total intl calls  \\\n",
       "count         3333.000000         3333.000000       3333.000000   \n",
       "mean             9.039325           10.237294          4.479448   \n",
       "std              2.275873            2.791840          2.461214   \n",
       "min              1.040000            0.000000          0.000000   \n",
       "25%              7.520000            8.500000          3.000000   \n",
       "50%              9.050000           10.300000          4.000000   \n",
       "75%             10.590000           12.100000          6.000000   \n",
       "max             17.770000           20.000000         20.000000   \n",
       "\n",
       "       total intl charge  customer service calls  \n",
       "count        3333.000000             3333.000000  \n",
       "mean            2.764581                1.562856  \n",
       "std             0.753773                1.315491  \n",
       "min             0.000000                0.000000  \n",
       "25%             2.300000                1.000000  \n",
       "50%             2.780000                1.000000  \n",
       "75%             3.270000                2.000000  \n",
       "max             5.400000                9.000000  "
      ]
     },
     "execution_count": 127,
     "metadata": {},
     "output_type": "execute_result"
    }
   ],
   "source": [
    "df.describe()"
   ]
  },
  {
   "cell_type": "markdown",
   "metadata": {},
   "source": [
    "There are no missing values in the data set. The majority of data types seem to be correctly formatted, I would only change the string object for international and voice mail plan to 0/1 and the are code from int to string because it's a category.\n",
    "Regarding the value distribution, we will need to standardize the values before running the model as they are not all on the same scale. \n",
    "Next, I will look at the correlations between the items to see if there are any highly correlating columns."
   ]
  },
  {
   "cell_type": "markdown",
   "metadata": {},
   "source": [
    "### Preprocessing of the data\n",
    "In this section, I will clean the data, select features, normalize and split the data."
   ]
  },
  {
   "cell_type": "code",
   "execution_count": 4,
   "metadata": {},
   "outputs": [
    {
     "data": {
      "image/png": "[encoded data removed]",
      "text/plain": [
       "<Figure size 720x576 with 2 Axes>"
      ]
     },
     "metadata": {},
     "output_type": "display_data"
    }
   ],
   "source": [
    "corr = df.corr()\n",
    "# Create a heatmap using Seaborn\n",
    "sns.set(style=\"white\")\n",
    "mask = np.triu(np.ones_like(corr, dtype=bool))\n",
    "fig, ax = plt.subplots(figsize=(10, 8))\n",
    "cmap = sns.diverging_palette(230, 20, as_cmap=True)\n",
    "sns.heatmap(corr, mask=mask, cmap=cmap, vmax=.9, center=0, square=True, linewidths=.5, cbar_kws={\"shrink\": .5})\n",
    "ax.set_title('Correlation Matrix', fontsize=18)\n",
    "\n",
    "# Show the plot\n",
    "plt.show()"
   ]
  },
  {
   "cell_type": "markdown",
   "metadata": {},
   "source": [
    "The correlation matrix shows that the columns with charges are highly correlated with their respective minutes columns. I will therefore drop all the columns with the charges. "
   ]
  },
  {
   "cell_type": "code",
   "execution_count": 5,
   "metadata": {},
   "outputs": [],
   "source": [
    "#fix the column names and drop columns\n",
    "df.columns = df.columns.str.replace(' ', '_')\n",
    "df = df.drop([x for x in df.columns if x.endswith('_charge')],axis=1)\n",
    "#replace strings with 0/1\n",
    "df['international_plan'] = df['international_plan'].replace({'no': 0, 'yes': 1})\n",
    "df['voice_mail_plan'] = df['voice_mail_plan'].replace({'no': 0, 'yes': 1})\n",
    "# drop phone number and area code.\n",
    "df = df.drop(['phone_number', 'area_code'], axis=1)\n",
    "df[\"churn\"] = df[\"churn\"].astype(int)"
   ]
  },
  {
   "cell_type": "code",
   "execution_count": 6,
   "metadata": {},
   "outputs": [
    {
     "name": "stdout",
     "output_type": "stream",
     "text": [
      "0    2850\n",
      "1     483\n",
      "Name: churn, dtype: int64\n",
      "0    0.855086\n",
      "1    0.144914\n",
      "Name: churn, dtype: float64\n"
     ]
    }
   ],
   "source": [
    "#check for class imbalance\n",
    "print(df[\"churn\"].value_counts())\n",
    "print(df[\"churn\"].value_counts(normalize=True))"
   ]
  },
  {
   "cell_type": "markdown",
   "metadata": {},
   "source": [
    "We have class imbalance in the data set. Only 14% of the customers change. So a model that would always predict customers to stay would have an accuracy of 85%. After doing the train test split, I will address this using SMOTE."
   ]
  },
  {
   "cell_type": "code",
   "execution_count": 8,
   "metadata": {},
   "outputs": [
    {
     "data": {
      "image/png": "[encoded data removed]",
      "text/plain": [
       "<Figure size 432x288 with 1 Axes>"
      ]
     },
     "metadata": {
      "needs_background": "light"
     },
     "output_type": "display_data"
    },
    {
     "data": {
      "image/png": "[encoded data removed]",
      "text/plain": [
       "<Figure size 432x288 with 1 Axes>"
      ]
     },
     "metadata": {
      "needs_background": "light"
     },
     "output_type": "display_data"
    },
    {
     "data": {
      "image/png": "[encoded data removed]",
      "text/plain": [
       "<Figure size 432x288 with 1 Axes>"
      ]
     },
     "metadata": {
      "needs_background": "light"
     },
     "output_type": "display_data"
    },
    {
     "data": {
      "image/png": "[encoded data removed]",
      "text/plain": [
       "<Figure size 432x288 with 1 Axes>"
      ]
     },
     "metadata": {
      "needs_background": "light"
     },
     "output_type": "display_data"
    },
    {
     "data": {
      "image/png": "[encoded data removed]",
      "text/plain": [
       "<Figure size 432x288 with 1 Axes>"
      ]
     },
     "metadata": {
      "needs_background": "light"
     },
     "output_type": "display_data"
    },
    {
     "data": {
      "image/png": "[encoded data removed]",
      "text/plain": [
       "<Figure size 432x288 with 1 Axes>"
      ]
     },
     "metadata": {
      "needs_background": "light"
     },
     "output_type": "display_data"
    },
    {
     "data": {
      "image/png": "[encoded data removed]",
      "text/plain": [
       "<Figure size 432x288 with 1 Axes>"
      ]
     },
     "metadata": {
      "needs_background": "light"
     },
     "output_type": "display_data"
    },
    {
     "data": {
      "image/png": "[encoded data removed]",
      "text/plain": [
       "<Figure size 432x288 with 1 Axes>"
      ]
     },
     "metadata": {
      "needs_background": "light"
     },
     "output_type": "display_data"
    },
    {
     "data": {
      "image/png": "[encoded data removed]",
      "text/plain": [
       "<Figure size 432x288 with 1 Axes>"
      ]
     },
     "metadata": {
      "needs_background": "light"
     },
     "output_type": "display_data"
    },
    {
     "data": {
      "image/png": "[encoded data removed]",
      "text/plain": [
       "<Figure size 432x288 with 1 Axes>"
      ]
     },
     "metadata": {
      "needs_background": "light"
     },
     "output_type": "display_data"
    },
    {
     "data": {
      "image/png": "[encoded data removed]",
      "text/plain": [
       "<Figure size 432x288 with 1 Axes>"
      ]
     },
     "metadata": {
      "needs_background": "light"
     },
     "output_type": "display_data"
    },
    {
     "data": {
      "image/png": "[encoded data removed]",
      "text/plain": [
       "<Figure size 432x288 with 1 Axes>"
      ]
     },
     "metadata": {
      "needs_background": "light"
     },
     "output_type": "display_data"
    },
    {
     "data": {
      "image/png": "[encoded data removed]",
      "text/plain": [
       "<Figure size 432x288 with 1 Axes>"
      ]
     },
     "metadata": {
      "needs_background": "light"
     },
     "output_type": "display_data"
    }
   ],
   "source": [
    "#visualise distribution of values for each columns\n",
    "for col in df.columns:\n",
    "    plt.hist(df[col])\n",
    "    plt.title(col)\n",
    "    plt.show()"
   ]
  },
  {
   "cell_type": "markdown",
   "metadata": {},
   "source": [
    "The majority of columns are normally distributed. The majority of customers do not have an international plan or a voice mail plan. This also explains why the majority of voice mail minutes are 0. Customers service Calls are not distributed normally but they are slightly right skewed. Since I do not want to have a dummy variable for each state, I will categorize the states into regions based on the bureau of statistics."
   ]
  },
  {
   "cell_type": "code",
   "execution_count": 6,
   "metadata": {},
   "outputs": [],
   "source": [
    "#map divisions to states\n",
    "divs = pd.read_csv(\"division.csv\", sep=\";\")\n",
    "state_division_map = divs.set_index('Abbreviation')['Division']\n",
    "#add division to df\n",
    "df['division'] = df['state'].map(state_division_map)\n",
    "#drop state column\n",
    "df.drop([\"state\"], axis=1, inplace=True)"
   ]
  },
  {
   "cell_type": "markdown",
   "metadata": {},
   "source": [
    "This should be enough preparation work. I will now start splitting the dataset in target variable y which is the churn indicator and predictors which are all other columns. I'll also have to get some dummy variables for the states. "
   ]
  },
  {
   "cell_type": "code",
   "execution_count": 7,
   "metadata": {},
   "outputs": [],
   "source": [
    "y = df[\"churn\"] #set target variable\n",
    "X = df.drop([\"churn\"], axis=1) #set predictors\n",
    "X = pd.get_dummies(X)"
   ]
  },
  {
   "cell_type": "markdown",
   "metadata": {},
   "source": [
    "I want to have a first look how the different columns are correlated with our target variable. Therefore, I will run a correlation analysis on every column with the target."
   ]
  },
  {
   "cell_type": "code",
   "execution_count": 41,
   "metadata": {},
   "outputs": [
    {
     "name": "stdout",
     "output_type": "stream",
     "text": [
      "                             correlation\n",
      "international_plan              0.259852\n",
      "customer_service_calls          0.208750\n",
      "total_day_minutes               0.205151\n",
      "total_eve_minutes               0.092796\n",
      "total_intl_minutes              0.068239\n",
      "division_Middle Atlantic        0.045637\n",
      "total_night_minutes             0.035493\n",
      "division_West South Central     0.024332\n",
      "total_day_calls                 0.018459\n",
      "account_length                  0.016541\n",
      "total_eve_calls                 0.009233\n",
      "total_night_calls               0.006141\n",
      "division_New England            0.004638\n",
      "division_South Atlantic         0.002265\n",
      "division_Pacific               -0.003091\n",
      "division_East South Central    -0.007167\n",
      "division_Mountain              -0.010148\n",
      "division_East North Central    -0.013431\n",
      "division_West North Central    -0.018416\n",
      "total_intl_calls               -0.052844\n",
      "number_vmail_messages          -0.089728\n",
      "voice_mail_plan                -0.102148\n"
     ]
    }
   ],
   "source": [
    "# Compute the correlation between the target and each feature\n",
    "correlations = X.corrwith(y)\n",
    "\n",
    "# Convert the correlations to a DataFrame and display it\n",
    "correlations_df = pd.DataFrame(correlations, columns=['correlation'])\n",
    "correlations_df.sort_values('correlation', ascending=False, inplace=True)\n",
    "print(correlations_df)"
   ]
  },
  {
   "cell_type": "markdown",
   "metadata": {},
   "source": [
    "On the first look, the international plan, customer service calls and day minutes may have an influence on churn. Since the divisions don't seem to play a role, I will drop them to reduce the number of features for my model. "
   ]
  },
  {
   "cell_type": "code",
   "execution_count": 8,
   "metadata": {},
   "outputs": [],
   "source": [
    "X = X.drop([x for x in X.columns if x.startswith('division')],axis=1)"
   ]
  },
  {
   "cell_type": "markdown",
   "metadata": {},
   "source": [
    "To avoid data leakage, I will do the train test split now before addressing any class imbalance or standardizations."
   ]
  },
  {
   "cell_type": "code",
   "execution_count": 9,
   "metadata": {},
   "outputs": [],
   "source": [
    "X_train, X_test, y_train, y_test = train_test_split(X, y, random_state=42, test_size=0.2)"
   ]
  },
  {
   "cell_type": "code",
   "execution_count": 44,
   "metadata": {},
   "outputs": [
    {
     "name": "stdout",
     "output_type": "stream",
     "text": [
      "Train percent churn: 0.14328582145536384\n",
      "Test percent churn:  0.15142428785607195\n"
     ]
    }
   ],
   "source": [
    "print(\"Train percent churn:\", y_train.value_counts(normalize=True)[1])\n",
    "print(\"Test percent churn: \", y_test.value_counts(normalize=True)[1])"
   ]
  },
  {
   "cell_type": "markdown",
   "metadata": {},
   "source": [
    "Finally, I will standardize the data, since it's not all on the same scale."
   ]
  },
  {
   "cell_type": "code",
   "execution_count": 10,
   "metadata": {},
   "outputs": [],
   "source": [
    "sc = StandardScaler()\n",
    "X_train_scaled = sc.fit_transform(X_train)\n",
    "X_test_scaled=sc.transform(X_test)"
   ]
  },
  {
   "cell_type": "markdown",
   "metadata": {},
   "source": [
    "I will now use SMOTE (Synthetic Minority Oversampling Technique) to address the class imbalance. This will randomly choose one of the k-nearest neighbours and use it to create a similar but randomly tweaked new observations."
   ]
  },
  {
   "cell_type": "code",
   "execution_count": 11,
   "metadata": {},
   "outputs": [
    {
     "name": "stdout",
     "output_type": "stream",
     "text": [
      "Train percent churn:\n",
      " 1    2284\n",
      "0    2284\n",
      "Name: churn, dtype: int64\n"
     ]
    }
   ],
   "source": [
    "# Apply SMOTE to the training data\n",
    "smote = SMOTE(random_state=42)\n",
    "X_train_resampled, y_train_resampled = smote.fit_resample(X_train_scaled, y_train)\n",
    "\n",
    "#values after SMOTE\n",
    "print(\"Train percent churn:\\n\", y_train_resampled.value_counts())"
   ]
  },
  {
   "cell_type": "markdown",
   "metadata": {},
   "source": [
    "### Baseline Model - Logistic Regression\n",
    "I will create a vanilla baseline model which I will use for comparison later on. My baseline model will be a simple logistic regression only specifying the random state for reproducibility."
   ]
  },
  {
   "cell_type": "code",
   "execution_count": 15,
   "metadata": {},
   "outputs": [
    {
     "name": "stdout",
     "output_type": "stream",
     "text": [
      "Accuracy on training set: 0.7697022767075307\n",
      "Accuracy on test set: 0.7871064467766117\n",
      "              precision    recall  f1-score   support\n",
      "\n",
      "           0       0.95      0.79      0.86       566\n",
      "           1       0.40      0.79      0.53       101\n",
      "\n",
      "    accuracy                           0.79       667\n",
      "   macro avg       0.68      0.79      0.70       667\n",
      "weighted avg       0.87      0.79      0.81       667\n",
      "\n",
      "Positive Class: 1\n",
      "Precision: 0.3980\n",
      "Recall: 0.7921\n",
      "F1-score: 0.5298\n",
      "Accuracy: 0.7871\n"
     ]
    },
    {
     "data": {
      "text/plain": [
       "{'precision': 0.39800995024875624,\n",
       " 'recall': 0.7920792079207921,\n",
       " 'f1_score': 0.5298013245033113,\n",
       " 'accuracy': 0.7871064467766117}"
      ]
     },
     "execution_count": 15,
     "metadata": {},
     "output_type": "execute_result"
    }
   ],
   "source": [
    "lr_clf = LogisticRegression(random_state = 42)\n",
    "lr_clf.fit(X_train_resampled, y_train_resampled)\n",
    "y_pred = lr_clf.predict(X_test_scaled)\n",
    "print('Accuracy on training set:',lr_clf.score(X_train_resampled,y_train_resampled))\n",
    "print('Accuracy on test set:',lr_clf.score(X_test_scaled,y_test))\n",
    "print(classification_report(y_test, y_pred))"
   ]
  },
  {
   "cell_type": "markdown",
   "metadata": {},
   "source": [
    "The vanilla model has an accuracy of 78% on the test and 76% on the training set. This means that it's neither overfitting nor underfitting which is good. The precision and f1 score are not good for class 1 and quite good for class 0. "
   ]
  },
  {
   "cell_type": "code",
   "execution_count": 48,
   "metadata": {},
   "outputs": [
    {
     "name": "stdout",
     "output_type": "stream",
     "text": [
      "Confusion Matrix:\n",
      " [[445 121]\n",
      " [ 21  80]]\n"
     ]
    },
    {
     "data": {
      "text/plain": [
       "<sklearn.metrics._plot.confusion_matrix.ConfusionMatrixDisplay at 0x2045f964520>"
      ]
     },
     "execution_count": 48,
     "metadata": {},
     "output_type": "execute_result"
    },
    {
     "data": {
      "image/png": "[encoded data removed]",
      "text/plain": [
       "<Figure size 432x288 with 2 Axes>"
      ]
     },
     "metadata": {
      "needs_background": "light"
     },
     "output_type": "display_data"
    }
   ],
   "source": [
    "# Print confusion matrix\n",
    "y_hat_test = lr_clf.predict(X_test_scaled)\n",
    "cnf_matrix = confusion_matrix(y_test, y_hat_test)\n",
    "print('Confusion Matrix:\\n', cnf_matrix)\n",
    "\n",
    "# Visualize your confusion matrix\n",
    "disp = ConfusionMatrixDisplay(confusion_matrix=cnf_matrix, display_labels=lr_clf.classes_)\n",
    "disp.plot(cmap=plt.cm.Blues)"
   ]
  },
  {
   "cell_type": "code",
   "execution_count": 49,
   "metadata": {},
   "outputs": [
    {
     "data": {
      "image/png": "[encoded data removed]",
      "text/plain": [
       "<Figure size 432x288 with 1 Axes>"
      ]
     },
     "metadata": {
      "needs_background": "light"
     },
     "output_type": "display_data"
    }
   ],
   "source": [
    "# Replace `model` with your trained logistic regression model\n",
    "lr_coef = lr_clf.coef_[0]\n",
    "lr_coef_abs = np.abs(lr_coef)\n",
    "\n",
    "# Get feature names\n",
    "feature_names = np.array(X.columns)\n",
    "\n",
    "# Sort features by absolute coefficient values\n",
    "sorted_idx = lr_coef_abs.argsort()\n",
    "\n",
    "# Plot feature importances\n",
    "plt.barh(range(len(sorted_idx)), lr_coef[sorted_idx], align='center')\n",
    "plt.yticks(range(len(sorted_idx)), feature_names[sorted_idx])\n",
    "plt.xlabel(\"Coefficient magnitude\")\n",
    "plt.ylabel(\"Feature\")\n",
    "plt.show()"
   ]
  },
  {
   "cell_type": "markdown",
   "metadata": {},
   "source": [
    "In terms of the accuracy, the model is doing worse than always saying that the customer will not leave. I'm ok to accept a few more false positives in comparison to false negatives. It's worse losing a customer completely than offering a customer that did not intend to leave some gratifications. \n",
    "In terms of the feature importance, customer service calls seem to be a good predictor for churn."
   ]
  },
  {
   "cell_type": "markdown",
   "metadata": {},
   "source": [
    "### Second model - Random Forest Classification\n",
    "My second model will be a random forest classification. Random forest can handle well non-linear relationships and reduces overfitting through the bagging technique. "
   ]
  },
  {
   "cell_type": "code",
   "execution_count": 51,
   "metadata": {},
   "outputs": [
    {
     "name": "stdout",
     "output_type": "stream",
     "text": [
      "              precision    recall  f1-score   support\n",
      "\n",
      "           0       0.97      0.97      0.97       566\n",
      "           1       0.83      0.81      0.82       101\n",
      "\n",
      "    accuracy                           0.95       667\n",
      "   macro avg       0.90      0.89      0.89       667\n",
      "weighted avg       0.95      0.95      0.95       667\n",
      "\n",
      "Accuracy on training set: 1.0\n",
      "Accuracy on test set: 0.9460269865067467\n"
     ]
    }
   ],
   "source": [
    "#instantiate and fit RFC model\n",
    "rf_clf = RandomForestClassifier(random_state = 42)\n",
    "rf_clf.fit(X_train_resampled,y_train_resampled)\n",
    "# Predict the labels of the test data\n",
    "y_pred = rf_clf.predict(X_test_scaled)\n",
    "\n",
    "# Evaluate the performance of the classifier using various metrics\n",
    "accuracy = accuracy_score(y_test, y_pred)\n",
    "precision = precision_score(y_test, y_pred)\n",
    "recall = recall_score(y_test, y_pred)\n",
    "f1 = f1_score(y_test, y_pred)\n",
    "roc_auc = roc_auc_score(y_test, rf_clf.predict_proba(X_test_scaled)[:, 1])\n",
    "\n",
    "# Print the results\n",
    "print(classification_report(y_test, y_pred))\n",
    "print('Accuracy on training set:',rf_clf.score(X_train_resampled,y_train_resampled))\n",
    "print('Accuracy on test set:',rf_clf.score(X_test_scaled,y_test))"
   ]
  },
  {
   "cell_type": "markdown",
   "metadata": {},
   "source": [
    "The model actually performs quite well. I would prefer to further increase my recall score for the churn class so that I get a better score at really catching those customers who churn.\n",
    "\n",
    "Additionally, the fact that the model has 100% accuracy on the training set but slightly lower accuracy (0.9425) on the test set suggests that the model may be overfitting to the training data.\n",
    "I will next tune some hyperparameters to hopefully improve the model.I will first try to reduce the classification threshold."
   ]
  },
  {
   "cell_type": "code",
   "execution_count": 52,
   "metadata": {},
   "outputs": [
    {
     "name": "stdout",
     "output_type": "stream",
     "text": [
      "Best hyperparameters:  {'max_depth': None, 'max_features': 'sqrt', 'min_samples_leaf': 1, 'min_samples_split': 2, 'n_estimators': 150}\n",
      "Best F1 score:  0.9598957503189081\n"
     ]
    }
   ],
   "source": [
    "# Create a random forest classifier\n",
    "rf_clf2 = RandomForestClassifier(random_state=42)\n",
    "\n",
    "# Define the grid of hyperparameters to search over\n",
    "param_grid = {\n",
    "    'n_estimators': [50, 100, 150],\n",
    "    'max_depth': [5, 10, 15, None],\n",
    "    'min_samples_split': [2, 5, 10],\n",
    "    'min_samples_leaf': [1, 2, 4],\n",
    "    'max_features': ['sqrt', 'log2']\n",
    "}\n",
    "\n",
    "# Perform a grid search over the hyperparameters using cross-validation\n",
    "grid_search = GridSearchCV(estimator=rf_clf2, param_grid=param_grid, cv=5, scoring='f1')\n",
    "grid_search.fit(X_train_resampled, y_train_resampled)\n",
    "\n",
    "# Print the best hyperparameters found\n",
    "print(\"Best hyperparameters: \", grid_search.best_params_)\n",
    "print(\"Best F1 score: \", grid_search.best_score_)"
   ]
  },
  {
   "cell_type": "markdown",
   "metadata": {},
   "source": [
    "The GridSearch shows that mainly the default parameters work best. I will only adjust the n_estimators and try if it improves anything."
   ]
  },
  {
   "cell_type": "code",
   "execution_count": 54,
   "metadata": {},
   "outputs": [
    {
     "name": "stdout",
     "output_type": "stream",
     "text": [
      "              precision    recall  f1-score   support\n",
      "\n",
      "           0       0.96      0.97      0.97       566\n",
      "           1       0.82      0.80      0.81       101\n",
      "\n",
      "    accuracy                           0.94       667\n",
      "   macro avg       0.89      0.89      0.89       667\n",
      "weighted avg       0.94      0.94      0.94       667\n",
      "\n",
      "Accuracy on training set: 1.0\n",
      "Accuracy on test set: 0.9430284857571214\n"
     ]
    }
   ],
   "source": [
    "rf_clf3 = RandomForestClassifier(n_estimators = 150, max_depth = None,\n",
    "                                  max_features = \"sqrt\", min_samples_leaf = 1,\n",
    "                                  min_samples_split = 2,random_state = 42)\n",
    "rf_clf3.fit(X_train_resampled,y_train_resampled)\n",
    "# Predict the labels of the test data\n",
    "y_pred = rf_clf3.predict(X_test_scaled)\n",
    "\n",
    "# Evaluate the performance of the classifier using various metrics\n",
    "accuracy = accuracy_score(y_test, y_pred)\n",
    "precision = precision_score(y_test, y_pred)\n",
    "recall = recall_score(y_test, y_pred)\n",
    "f1 = f1_score(y_test, y_pred)\n",
    "roc_auc = roc_auc_score(y_test, rf_clf3.predict_proba(X_test_scaled)[:, 1])\n",
    "\n",
    "# Print the results\n",
    "print(classification_report(y_test, y_pred))\n",
    "print('Accuracy on training set:',rf_clf3.score(X_train_resampled,y_train_resampled))\n",
    "print('Accuracy on test set:',rf_clf3.score(X_test_scaled,y_test))"
   ]
  },
  {
   "cell_type": "markdown",
   "metadata": {},
   "source": [
    "The tuning does not really help. I still have a certain overfit and slightly worse scores than before. I will next try an ensemble method with XGB and compare it to a bagging classifier."
   ]
  },
  {
   "cell_type": "markdown",
   "metadata": {},
   "source": [
    "## Model 3: Ensemble method\n",
    "I will now try two ensemble methods: bagging classifier and XGBClassifier. The main difference between BaggingClassifier and XGBClassifier is in their approach to ensemble learning. BaggingClassifier creates multiple samples of the training data and trains base classifiers on each sample, while XGBClassifier uses gradient boosting to iteratively improve the prediction accuracy."
   ]
  },
  {
   "cell_type": "code",
   "execution_count": 16,
   "metadata": {},
   "outputs": [
    {
     "name": "stdout",
     "output_type": "stream",
     "text": [
      "Bagging Classifier:\n",
      "              precision    recall  f1-score   support\n",
      "\n",
      "           0       0.96      0.96      0.96       566\n",
      "           1       0.77      0.76      0.77       101\n",
      "\n",
      "    accuracy                           0.93       667\n",
      "   macro avg       0.86      0.86      0.86       667\n",
      "weighted avg       0.93      0.93      0.93       667\n",
      "\n",
      "Accuracy on training set: 0.9967162872154116\n",
      "Accuracy on test set: 0.9295352323838081\n",
      "XGB Classifier:\n",
      "              precision    recall  f1-score   support\n",
      "\n",
      "           0       0.96      0.99      0.97       566\n",
      "           1       0.91      0.78      0.84       101\n",
      "\n",
      "    accuracy                           0.96       667\n",
      "   macro avg       0.94      0.88      0.91       667\n",
      "weighted avg       0.95      0.96      0.95       667\n",
      "\n",
      "Accuracy on training set: 1.0\n",
      "Accuracy on test set: 0.9550224887556222\n"
     ]
    }
   ],
   "source": [
    "# Instantiate BaggingClassifier and XGBClassifier\n",
    "bagging = BaggingClassifier()\n",
    "xgb = XGBClassifier()\n",
    "\n",
    "# Fit BaggingClassifier and XGBClassifier on the training data\n",
    "bagging.fit(X_train_resampled, y_train_resampled)\n",
    "xgb.fit(X_train_resampled, y_train_resampled)\n",
    "\n",
    "# Predict the labels of the test data using BaggingClassifier and XGBClassifier\n",
    "y_pred_bagging = bagging.predict(X_test_scaled)\n",
    "y_pred_xgb = xgb.predict(X_test_scaled)\n",
    "\n",
    "# Evaluate the performance of BaggingClassifier and XGBClassifier using appropriate metrics\n",
    "\n",
    "print('Bagging Classifier:')\n",
    "print(classification_report(y_test, y_pred_bagging))\n",
    "print('Accuracy on training set:',bagging.score(X_train_resampled,y_train_resampled))\n",
    "print('Accuracy on test set:',bagging.score(X_test_scaled,y_test))\n",
    "\n",
    "print('XGB Classifier:')\n",
    "print(classification_report(y_test, y_pred_xgb))\n",
    "print('Accuracy on training set:',xgb.score(X_train_resampled,y_train_resampled))\n",
    "print('Accuracy on test set:',xgb.score(X_test_scaled,y_test))"
   ]
  },
  {
   "cell_type": "markdown",
   "metadata": {},
   "source": [
    "The bagging classifier is worse than the XGB Classifier. The perfect accuracy on the training set suggest overfitting and my recall and f1 score on class 1 could be higher. It will be a trade off with precision but that's ok. \n",
    "Next, I will try to adjust the threshold which has a default value of 0.5 and replace it with 0.3 to see if it improves anything. In theory, it should result in a higher recall and a lower precision. "
   ]
  },
  {
   "cell_type": "code",
   "execution_count": 17,
   "metadata": {},
   "outputs": [
    {
     "name": "stdout",
     "output_type": "stream",
     "text": [
      "              precision    recall  f1-score   support\n",
      "\n",
      "           0       0.96      0.99      0.97       566\n",
      "           1       0.91      0.78      0.84       101\n",
      "\n",
      "    accuracy                           0.96       667\n",
      "   macro avg       0.94      0.88      0.91       667\n",
      "weighted avg       0.95      0.96      0.95       667\n",
      "\n",
      "              precision    recall  f1-score   support\n",
      "\n",
      "           0       0.97      0.97      0.97       566\n",
      "           1       0.84      0.83      0.84       101\n",
      "\n",
      "    accuracy                           0.95       667\n",
      "   macro avg       0.91      0.90      0.90       667\n",
      "weighted avg       0.95      0.95      0.95       667\n",
      "\n",
      "Accuracy on training set: 1.0\n",
      "Accuracy on test set: 0.9550224887556222\n"
     ]
    }
   ],
   "source": [
    "# predict test set probabilities\n",
    "y_pred_proba = xgb.predict_proba(X_test_scaled)[:, 1]\n",
    "\n",
    "# threshold the probabilities to get class predictions\n",
    "y_pred = np.where(y_pred_proba >= 0.5, 1, 0)\n",
    "\n",
    "# evaluate performance with default threshold\n",
    "print(classification_report(y_test, y_pred))\n",
    "\n",
    "# lower threshold to improve recall at the expense of precision\n",
    "threshold = 0.3\n",
    "y_pred = np.where(y_pred_proba >= threshold, 1, 0)\n",
    "\n",
    "# evaluate performance with new threshold\n",
    "print(classification_report(y_test, y_pred))\n",
    "print('Accuracy on training set:',xgb.score(X_train_resampled,y_train_resampled))\n",
    "print('Accuracy on test set:',xgb.score(X_test_scaled,y_test))"
   ]
  },
  {
   "cell_type": "markdown",
   "metadata": {},
   "source": [
    "Comparing the two thresholds, the second model with the 0.3 threshold looks better. Recall improved for class 1 and precision decreased. The f1 score is the same which makes sense.\n",
    "Next, I'll do a grid search for tuned hyperparameters."
   ]
  },
  {
   "cell_type": "code",
   "execution_count": 60,
   "metadata": {},
   "outputs": [
    {
     "name": "stdout",
     "output_type": "stream",
     "text": [
      "Fitting 5 folds for each of 27 candidates, totalling 135 fits\n"
     ]
    },
    {
     "name": "stderr",
     "output_type": "stream",
     "text": [
      "[Parallel(n_jobs=-1)]: Using backend LokyBackend with 8 concurrent workers.\n",
      "[Parallel(n_jobs=-1)]: Done  34 tasks      | elapsed:    4.0s\n",
      "[Parallel(n_jobs=-1)]: Done 135 out of 135 | elapsed:   16.3s finished\n"
     ]
    },
    {
     "name": "stdout",
     "output_type": "stream",
     "text": [
      "[16:35:26] WARNING: C:\\Users\\Administrator\\workspace\\xgboost-win64_release_1.2.0\\src\\learner.cc:516: \n",
      "Parameters: { threshold } might not be used.\n",
      "\n",
      "  This may not be accurate due to some parameters are only used in language bindings but\n",
      "  passed down to XGBoost core.  Or some parameters are not used but slip through this\n",
      "  verification. Please open an issue if you find above cases.\n",
      "\n",
      "\n",
      "Best F1: 0.963051 using {'learning_rate': 0.1, 'max_depth': 5, 'n_estimators': 300}\n"
     ]
    }
   ],
   "source": [
    "# Define the XGBClassifier with the new threshold\n",
    "model = XGBClassifier(scale_pos_weight=3.5, threshold=0.3)\n",
    "\n",
    "# Define the parameter grid to search over\n",
    "param_grid = {\n",
    "    'n_estimators': [100, 200, 300],\n",
    "    'max_depth': [3, 4, 5],\n",
    "    'learning_rate': [0.01, 0.1, 1.0]\n",
    "}\n",
    "\n",
    "\n",
    "# Perform grid search CV\n",
    "grid_search = GridSearchCV(model, param_grid=param_grid, scoring= \"f1\", cv=5, n_jobs=-1, verbose=1)\n",
    "grid_result = grid_search.fit(X_train_resampled, y_train_resampled.values.ravel())\n",
    "\n",
    "# Print the best results\n",
    "print(\"Best F1: %f using %s\" % (grid_result.best_score_, grid_result.best_params_))"
   ]
  },
  {
   "cell_type": "code",
   "execution_count": 61,
   "metadata": {},
   "outputs": [
    {
     "name": "stdout",
     "output_type": "stream",
     "text": [
      "adjusted XGB Classifier:\n",
      "              precision    recall  f1-score   support\n",
      "\n",
      "           0       0.97      0.97      0.97       566\n",
      "           1       0.83      0.83      0.83       101\n",
      "\n",
      "    accuracy                           0.95       667\n",
      "   macro avg       0.90      0.90      0.90       667\n",
      "weighted avg       0.95      0.95      0.95       667\n",
      "\n",
      "Accuracy on training set: 0.9986865148861647\n",
      "Accuracy on test set: 0.9550224887556222\n"
     ]
    }
   ],
   "source": [
    "# Instantiate the XGBClassifier with the best parameters\n",
    "xgb2 = XGBClassifier(learning_rate=0.1, max_depth=5, n_estimators=300)\n",
    "# Fit the XGBClassifier on the resampled training data\n",
    "xgb2.fit(X_train_resampled, y_train_resampled)\n",
    "# Make predictions on the testing data\n",
    "y_pred_proba = xgb2.predict_proba(X_test_scaled)[:, 1]\n",
    "\n",
    "# Adjust the threshold\n",
    "y_pred = [1 if p >= 0.3 else 0 for p in y_pred_proba]\n",
    "print('adjusted XGB Classifier:')\n",
    "print(classification_report(y_test, y_pred))\n",
    "print('Accuracy on training set:',xgb2.score(X_train_resampled,y_train_resampled))\n",
    "print('Accuracy on test set:',xgb2.score(X_test_scaled,y_test))"
   ]
  },
  {
   "cell_type": "markdown",
   "metadata": {},
   "source": [
    "This did not improve the model. As a final step, I will try another resampling technique than smote. I will do a combination of over and undersampling now to see if it improves my recall for class 1."
   ]
  },
  {
   "cell_type": "code",
   "execution_count": 19,
   "metadata": {},
   "outputs": [],
   "source": [
    "# define the pipeline steps for resampling\n",
    "over = RandomOverSampler(sampling_strategy=0.2)\n",
    "under = RandomUnderSampler(sampling_strategy=0.5)\n",
    "steps = [('o', over), ('u', under)]\n",
    "\n",
    "# define the pipeline that first oversamples and then undersamples the data\n",
    "resampling_pipeline = Pipeline(steps=steps)\n",
    "\n",
    "# fit and apply the pipeline to the data\n",
    "X_train_resampled2, y_train_resampled2 = resampling_pipeline.fit_resample(X_train_scaled, y_train)"
   ]
  },
  {
   "cell_type": "code",
   "execution_count": 27,
   "metadata": {},
   "outputs": [
    {
     "name": "stdout",
     "output_type": "stream",
     "text": [
      "XGB Classifier:\n",
      "              precision    recall  f1-score   support\n",
      "\n",
      "           0       0.97      0.98      0.97       566\n",
      "           1       0.88      0.83      0.85       101\n",
      "\n",
      "    accuracy                           0.96       667\n",
      "   macro avg       0.92      0.91      0.91       667\n",
      "weighted avg       0.96      0.96      0.96       667\n",
      "\n",
      "Accuracy on training set: 1.0\n",
      "Accuracy on test set: 0.9565217391304348\n"
     ]
    }
   ],
   "source": [
    "# Instantiate XGBClassifier\n",
    "xgb4 = XGBClassifier(learning_rate=0.1, max_depth=5, n_estimators=300)\n",
    "\n",
    "# Fit XGBClassifier on the training data\n",
    "xgb4.fit(X_train_resampled2, y_train_resampled2)\n",
    "\n",
    "# Make predictions on the testing data\n",
    "y_pred = xgb4.predict(X_test_scaled)\n",
    "\n",
    "# Evaluate the performance of XGBClassifier using appropriate metrics\n",
    "\n",
    "print('XGB Classifier:')\n",
    "print(classification_report(y_test, y_pred))\n",
    "print('Accuracy on training set:',xgb4.score(X_train_resampled2,y_train_resampled2))\n",
    "print('Accuracy on test set:',xgb4.score(X_test_scaled,y_test))"
   ]
  },
  {
   "cell_type": "markdown",
   "metadata": {},
   "source": [
    "### Final Model Evaluation\n",
    "This is my best model so far. The combination of oversampling of the minority and undersampling of majority has lead to better results than the approach with SMOTE.\n",
    "The XGB Classifier model has performed well in predicting customer churn. The precision score for class 1 (churn) is 0.88, which means that when the model predicts a customer will churn, it is correct 88% of the time. The recall score for class 1 is 0.83, which means that the model correctly identifies 83% of all customers who actually churn. The F1-score for class 1 is 0.85, which is a harmonic mean of precision and recall and indicates overall performance of the model for class 1. Additionally, the macro-average F1-score is 0.91, which means that the model performs well in both classes. The accuracy of the model on the test set is 0.9565, which means that the model correctly predicts 95.65% of all customers' churn status. The high accuracy on the training set (1.0) and a comparable accuracy on the test set (0.9565) suggests that the model has not overfit the training data. \n",
    "As a final step, I will look at the feature importance of my model."
   ]
  },
  {
   "cell_type": "code",
   "execution_count": 28,
   "metadata": {},
   "outputs": [
    {
     "name": "stdout",
     "output_type": "stream",
     "text": [
      "                   feature  importance\n",
      "1       international_plan    0.207307\n",
      "12  customer_service_calls    0.170114\n",
      "2          voice_mail_plan    0.132931\n",
      "4        total_day_minutes    0.099845\n",
      "11        total_intl_calls    0.093570\n",
      "6        total_eve_minutes    0.065595\n",
      "10      total_intl_minutes    0.047145\n",
      "3    number_vmail_messages    0.039567\n",
      "8      total_night_minutes    0.037372\n",
      "9        total_night_calls    0.032964\n",
      "0           account_length    0.027307\n",
      "5          total_day_calls    0.024845\n",
      "7          total_eve_calls    0.021438\n"
     ]
    }
   ],
   "source": [
    "importance_df = pd.DataFrame({'feature': X_train.columns, 'importance': xgb4.feature_importances_})\n",
    "importance_df = importance_df.sort_values('importance', ascending=False)\n",
    "print(importance_df)"
   ]
  },
  {
   "cell_type": "code",
   "execution_count": 29,
   "metadata": {},
   "outputs": [
    {
     "data": {
      "image/png": "[encoded data removed]",
      "text/plain": [
       "<Figure size 432x288 with 1 Axes>"
      ]
     },
     "metadata": {
      "needs_background": "light"
     },
     "output_type": "display_data"
    }
   ],
   "source": [
    "fig, ax = plt.subplots()\n",
    "ax.barh(importance_df['feature'], importance_df['importance'], color='blue')\n",
    "ax.invert_yaxis()  # Invert the y-axis to show the most important features at the top\n",
    "ax.set_xlabel('Importance')\n",
    "ax.set_ylabel('Feature')\n",
    "ax.set_title('Feature Importances')\n",
    "plt.show()"
   ]
  },
  {
   "cell_type": "markdown",
   "metadata": {},
   "source": [
    "Based on the feature importance chart, the three most important features for predicting customer churn are international_plan, voice_mail_plan, and customer_service_calls. This suggests that customers who have an international plan are more likely to churn, as are those with a voice mail plan. In addition, customers who have made a larger number of customer service calls are also more likely to churn.\n",
    "\n",
    "With this information, the telephone company can take steps to reduce churn and retain customers. For example, they could investigate whether their international plans are meeting the needs of their customers or if there are alternative plans that may be more suitable. The company could also evaluate the importance of offering voice mail plans to customers, and consider the impact on churn rates if such plans are not offered. Finally, they may want to review their customer service processes and practices to identify areas that could be improved to reduce the number of customer service calls and, in turn, decrease the likelihood of churn."
   ]
  }
 ],
 "metadata": {
  "kernelspec": {
   "display_name": "Python (learn-env)",
   "language": "python",
   "name": "learn-env"
  },
  "language_info": {
   "codemirror_mode": {
    "name": "ipython",
    "version": 3
   },
   "file_extension": ".py",
   "mimetype": "text/x-python",
   "name": "python",
   "nbconvert_exporter": "python",
   "pygments_lexer": "ipython3",
   "version": "3.8.5"
  }
 },
 "nbformat": 4,
 "nbformat_minor": 4
}
